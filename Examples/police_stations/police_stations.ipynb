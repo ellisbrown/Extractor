{
 "cells": [
  {
   "cell_type": "code",
   "execution_count": 1,
   "metadata": {
    "collapsed": true
   },
   "outputs": [],
   "source": [
    "import numpy as np\n",
    "import csv\n",
    "from extract import Extractor"
   ]
  },
  {
   "cell_type": "code",
   "execution_count": 2,
   "metadata": {
    "collapsed": true
   },
   "outputs": [],
   "source": [
    "BASE = \"http://www.mapdevelopers.com/what-county-am-i-in.php?address=\""
   ]
  },
  {
   "cell_type": "code",
   "execution_count": 3,
   "metadata": {
    "collapsed": false
   },
   "outputs": [],
   "source": [
    "with open(\"stations.csv\", 'r') as f:\n",
    "    st = list(csv.reader(f, delimiter=','))"
   ]
  },
  {
   "cell_type": "code",
   "execution_count": 4,
   "metadata": {
    "collapsed": false
   },
   "outputs": [],
   "source": [
    "headers = st[0]\n",
    "station_data = np.array(st[1:])"
   ]
  },
  {
   "cell_type": "code",
   "execution_count": 5,
   "metadata": {
    "collapsed": true
   },
   "outputs": [],
   "source": [
    "ids = {\n",
    "    'city': 'display_city',\n",
    "    'county': 'display_county',\n",
    "    'zipcode': 'display_zip',\n",
    "    'latitude': 'display_lat',\n",
    "    'longitude': 'display_lng'\n",
    "}"
   ]
  },
  {
   "cell_type": "code",
   "execution_count": 6,
   "metadata": {
    "collapsed": false
   },
   "outputs": [
    {
     "name": "stdout",
     "output_type": "stream",
     "text": [
      "['4816' 'MO' 'ADAIR COUNTY SHERIFF OFFICE' 'Kirksville' 'Adair County'\n",
      " '63501' '40.195673' '-92.583183']\n",
      "['4817' 'MO' 'ALTON POLICE DEPT' 'Alton' 'Madison County' '62002'\n",
      " '38.888756' '-90.159239']\n",
      "['4818' 'MO' 'ANDREW COUNTY SHERIFF DEPT' 'Savannah' 'Andrew County'\n",
      " '64485' '39.940995' '-94.819382']\n",
      "['4819' 'MO' 'ANDREW COUNTY SHERIFFS OFFICE' 'Savannah' 'Andrew County'\n",
      " '64485' '39.940995' '-94.819382']\n",
      "['4820' 'MO' 'APPLETON CITY POLICE DEPT' 'Appleton City' 'St. Clair County'\n",
      " '64724' '38.190478' '-94.026805']\n",
      "['4821' 'MO' 'ARCHIE POLICE DEPT' 'Archie' 'Cass County' '64725'\n",
      " '38.480200' '-94.353641']\n",
      "['4822' 'MO' 'ASH GROVE POLICE DEPT' 'Ash Grove' 'Greene County' '65604'\n",
      " '37.315896' '-93.584684']\n",
      "['4823' 'MO' 'AUDRAIN COUNTY SHERIFF DEPT' 'Mexico' 'Audrain County'\n",
      " '65265' '39.168032' '-91.818807']\n",
      "['4824' 'MO' 'AUDRAIN COUNTY SHERIFFS OFFICE' 'Mexico' 'Audrain County'\n",
      " '65265' '39.168046' '-91.818626']\n",
      "['4825' 'MO' 'AURORA POLICE DEPT' 'Aurora' 'Arapahoe County' '80012'\n",
      " '39.711811' '-104.813392']\n"
     ]
    }
   ],
   "source": [
    "e = Extractor()\n",
    "with e:\n",
    "    for row in station_data[:10]:\n",
    "        station = row[2]\n",
    "        url = BASE + station.replace(' ', '%20')\n",
    "        e.get(url)\n",
    "        idx = 3\n",
    "        for key, value in ids.items():\n",
    "            row[idx] = e.id_text(value)\n",
    "            idx+=1"
   ]
  },
  {
   "cell_type": "code",
   "execution_count": 19,
   "metadata": {
    "collapsed": false
   },
   "outputs": [],
   "source": [
    "with open('stations_new.csv', 'wb') as f:\n",
    "    h_string = \",\".join(headers)\n",
    "    np.savetxt(f, station_data, fmt='%s,%s,%s,%s,%s,%s,%s,%s', delimiter=\",\",header=h_string,comments='')"
   ]
  },
  {
   "cell_type": "code",
   "execution_count": null,
   "metadata": {
    "collapsed": true
   },
   "outputs": [],
   "source": []
  }
 ],
 "metadata": {
  "kernelspec": {
   "display_name": "Python 3",
   "language": "python",
   "name": "python3"
  },
  "language_info": {
   "codemirror_mode": {
    "name": "ipython",
    "version": 3
   },
   "file_extension": ".py",
   "mimetype": "text/x-python",
   "name": "python",
   "nbconvert_exporter": "python",
   "pygments_lexer": "ipython3",
   "version": "3.6.0"
  }
 },
 "nbformat": 4,
 "nbformat_minor": 2
}
